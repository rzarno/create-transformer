#based on "Let's build GPT: from scratch, in code, spelled out." from Andrej Karpathy

# download Quo Vadis from Henryk Sienkiewicz
!wget "http://biblioteka.kijowski.pl/sienkiewicz%20henryk/quo%20vadis%20(ang).txt"
!mv "quo vadis (ang).txt" quo_vadis.txt


#get pointer to read text
with open('quo_vadis.txt', encoding='latin-1') as f:
    text = f.read()


print('len of text: {}'.format(len(text)))
print(text[0:1000])


#get all unique charaters that occure in text
chars = sorted(list(set(text)))
print(chars)
print("vocabulary length: {}".format(len(chars)))



