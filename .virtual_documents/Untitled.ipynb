#based on "Let's build GPT: from scratch, in code, spelled out." from Andrej Karpathy

# download Quo Vadis from Henryk Sienkiewicz
!wget "http://biblioteka.kijowski.pl/sienkiewicz%20henryk/quo%20vadis%20(ang).txt"
!mv "quo vadis (ang).txt" quo_vadis.txt


#get pointer to read text
with open('quo_vadis.txt', encoding='latin-1') as f:
    text = f.read()


print('len of text: {}'.format(len(text)))
print(text[0:1000])


#get all unique charaters that occure in text
chars = sorted(list(set(text)))
print(chars)
print("vocabulary length: {}".format(len(chars)))


# transform characters to numeric data
strToInt = {ch:i for i,ch in enumerate(chars)}
intToStr = {i:ch for i,ch in enumerate(chars)}
encode = lambda s:[strToInt[c] for c in s] #encode string to integers
decode = lambda l:''.join([intToStr[i] for i in l]) #decode intigers to string

encoded = encode('quo vadis domine')
print('Encoded:', encoded)
print('Decoded:', decode(encoded))


#encoding entire "quo vadis" text
import torch #PyTorch lib is used for building transformer components https://pytorch.org
data = torch.tensor(encode(text), dtype=torch.long) #encode whole text
print(data.shape, data.dtype)
print(data[:1000])


#split data into train and validation sets
n = int(0.8*len(data))
train_data = data[:n]
val_data = data[n:]


block_size = 8
train_data[:block_size + 1]


x = train_data[:block_size]
y = train_data[1:block_size+1]
for t in range(block_size):
    context = x[:t+1]
    target = y[t]
    print(f"when input is {context} the target: {target}")


torch.manual_seed(2527)
batch_size = 4 # number of independant sequences processed in parallel
block_size = 8 # maximum context length of predictions

def get_batch(split):
    # generate batch of data of input x and targets y
    data = train_data if split == 'train' else val_data
    ix = torch.randint(len(data) - block_size, (batch_size,))
    x = torch.stack([data[i:i+block_size] for i in ix])
    y = torch.stack([data[i+1:i+block_size+1] for i in ix])
    return x, y

xb, yb = get_batch('train')
print('inputs:')
print(xb.shape)
print(xb)
print('targets:')
print(yb.shape)
print(yb)
print('----')

for b in range(batch_size): #batch dimension
    for t in range(block_size): #time dimension
        context = xb[b, :t+1]
        target = yb[b,t]
        print(f'when input is {context.tolist()} the target: {target}')



