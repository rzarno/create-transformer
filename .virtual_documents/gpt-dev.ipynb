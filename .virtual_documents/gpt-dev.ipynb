#based on "Let's build GPT: from scratch, in code, spelled out." from Andrej Karpathy

# download Quo Vadis from Henryk Sienkiewicz
!wget "http://biblioteka.kijowski.pl/sienkiewicz%20henryk/quo%20vadis%20(ang).txt"
!mv "quo vadis (ang).txt" quo_vadis.txt


#get pointer to read text
with open('quo_vadis.txt', encoding='latin-1') as f:
    text = f.read()


print('len of text: {}'.format(len(text)))
print(text[0:1000])


#get all unique charaters that occure in text
chars = sorted(list(set(text)))
print(chars)
vocab_size = len(chars)
print("vocabulary length: {}".format(len(chars)))


# transform characters to numeric data
strToInt = {ch:i for i,ch in enumerate(chars)}
intToStr = {i:ch for i,ch in enumerate(chars)}
encode = lambda s:[strToInt[c] for c in s] #encode string to integers
decode = lambda l:''.join([intToStr[i] for i in l]) #decode intigers to string

encoded = encode('quo vadis domine')
print('Encoded:', encoded)
print('Decoded:', decode(encoded))


#encoding entire "quo vadis" text
import torch #PyTorch lib is used for building transformer components https://pytorch.org
data = torch.tensor(encode(text), dtype=torch.long) #encode whole text
print(data.shape, data.dtype)
print(data[:1000])


#split data into train and validation sets
n = int(0.8*len(data))
train_data = data[:n]
val_data = data[n:]


block_size = 8
train_data[:block_size + 1]


x = train_data[:block_size]
y = train_data[1:block_size+1]
for t in range(block_size):
    context = x[:t+1]
    target = y[t]
    print(f"when input is {context} the target: {target}")


torch.manual_seed(2527)
batch_size = 4 # number of independant sequences processed in parallel
block_size = 8 # maximum context length of predictions

def get_batch(split):
    # generate batch of data of input x and targets y
    data = train_data if split == 'train' else val_data
    ix = torch.randint(len(data) - block_size, (batch_size,))
    x = torch.stack([data[i:i+block_size] for i in ix])
    y = torch.stack([data[i+1:i+block_size+1] for i in ix])
    return x, y

xb, yb = get_batch('train')
print('inputs:')
print(xb.shape)
print(xb)
print('targets:')
print(yb.shape)
print(yb)
print('----')

for b in range(batch_size): #batch dimension
    for t in range(block_size): #time dimension
        context = xb[b, :t+1]
        target = yb[b,t]
        print(f'when input is {context.tolist()} the target: {target}')


import torch
import torch.nn as nn
from torch.nn import functional as F
torch.manual_seed(2334)

class BigramLanguageModel(nn.Module):

    def __init__(self, vocab_size):
        super().__init__()
        # each token directly reads off the logits for the next token from a lookup table
        self.token_embedding_table = nn.Embedding(vocab_size, vocab_size)

    def forward(self, idx, targets = None):
        #idx and targets are both (B,T) tensor of integers
        logits = self.token_embedding_table(idx) #(B,T,C)

        if targets is None:
            loss = None
        else:
            B, T, C = logits.shape
            logits = logits.view(B*T, C)
            targets = targets.view(B*T)
            loss = F.cross_entropy(logits, targets)
        
        return logits, loss
        
    def generate(self, idx, max_new_tokens):
        #idx is (B, T) array of indices in the current context
        for _ in range(max_new_tokens):
            # get the predictions
            logits, loss = self(idx)
            # focus on last time step
            logits = logits[:, -1, :] #becomes (B, C)
            # apply softmax to get probabilities
            probs = F.softmax(logits, dim=1) # (B, C)
            # samble from distribution
            idx_next = torch.multinomial(probs, num_samples=1) # (B, 1)
            # append sampled to the running sequence
            idx = torch.cat((idx, idx_next), dim=1) #(B, T+1)
        return idx

m = BigramLanguageModel(vocab_size)
logits, loss = m(xb, yb)
print(logits.shape)
print(loss)

print(decode(m.generate(idx = torch.zeros((1, 1), dtype=torch.long), max_new_tokens=100)[0].tolist()))


#create a PyTorch optimizer
optimizer = torch.optim.AdamW(m.parameters(), lr=1e-3)
                             


batch_size = 32
for steps in range(10000):
    #sample a batch of data
    xb, yb = get_batch('train')

    # evaluate the loss
    logits, loss = m(xb, yb)
    optimizer.zero_grad(set_to_none=True)
    loss.backward()
    optimizer.step()

print(loss.item())


print(decode(m.generate(idx = torch.zeros((1, 1), dtype=torch.long), max_new_tokens=400)[0].tolist()))



