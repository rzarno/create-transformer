{
 "cells": [
  {
   "cell_type": "code",
   "execution_count": 10,
   "id": "ef4d2009-3c89-48d2-93cc-c1fce0a94874",
   "metadata": {},
   "outputs": [
    {
     "name": "stdout",
     "output_type": "stream",
     "text": [
      "--2024-05-12 18:14:04--  http://biblioteka.kijowski.pl/sienkiewicz%20henryk/quo%20vadis%20(ang).txt\n",
      "Resolving biblioteka.kijowski.pl (biblioteka.kijowski.pl)... 77.65.215.2\n",
      "Connecting to biblioteka.kijowski.pl (biblioteka.kijowski.pl)|77.65.215.2|:80... connected.\n",
      "HTTP request sent, awaiting response... 200 OK\n",
      "Length: 642072 (627K) [text/plain]\n",
      "Saving to: ‘quo vadis (ang).txt.1’\n",
      "\n",
      "quo vadis (ang).txt 100%[===================>] 627,02K  1,14MB/s    in 0,5s    \n",
      "\n",
      "2024-05-12 18:14:05 (1,14 MB/s) - ‘quo vadis (ang).txt.1’ saved [642072/642072]\n",
      "\n"
     ]
    }
   ],
   "source": [
    "#based on \"Let's build GPT: from scratch, in code, spelled out.\" from Andrej Karpathy\n",
    "\n",
    "# download Quo Vadis from Henryk Sienkiewicz\n",
    "!wget \"http://biblioteka.kijowski.pl/sienkiewicz%20henryk/quo%20vadis%20(ang).txt\"\n",
    "!mv \"quo vadis (ang).txt\" quo_vadis.txt"
   ]
  },
  {
   "cell_type": "code",
   "execution_count": 18,
   "id": "fb148ef1-f986-4f03-948d-da5afdf4ded2",
   "metadata": {},
   "outputs": [],
   "source": [
    "#get pointer to read text\n",
    "with open('quo_vadis.txt', encoding='latin-1') as f:\n",
    "    text = f.read()"
   ]
  },
  {
   "cell_type": "code",
   "execution_count": 22,
   "id": "6b82c058-6795-4e9a-b00e-5f1474e93aa1",
   "metadata": {},
   "outputs": [
    {
     "name": "stdout",
     "output_type": "stream",
     "text": [
      "len of text: 630170\n",
      "Project Gutenberg EBook, Quo Vadis, by Henryk Sienkiewicz\n",
      "\n",
      "Copyright laws are changing all over the world. Be sure to check the\n",
      "copyright laws for your country before downloading or redistributing\n",
      "this or any other Project Gutenberg eBook.\n",
      "\n",
      "This header should be the first thing seen when viewing this Project\n",
      "Gutenberg file.  Please do not remove it.  Do not change or edit the\n",
      "header without written permission.\n",
      "\n",
      "Please read the \"legal small print,\" and other information about the\n",
      "eBook and Project Gutenberg at the bottom of this file.  Included is\n",
      "important information about your specific rights and restrictions in\n",
      "how the file may be used.  You can also find out about how to make a\n",
      "donation to Project Gutenberg, and how to get involved.\n",
      "\n",
      "\n",
      "**Welcome To The World of Free Plain Vanilla Electronic Texts**\n",
      "\n",
      "**EBooks Readable By Both Humans and By Computers, Since 1971**\n",
      "\n",
      "*****These EBooks Were Prepared By Thousands of Volunteers*****\n",
      "\n",
      "\n",
      "\n",
      "Title: Quo Vadis A Narrative of the Time of Nero\n",
      "\n",
      "Auth\n"
     ]
    }
   ],
   "source": [
    "print('len of text: {}'.format(len(text)))\n",
    "print(text[0:1000])"
   ]
  },
  {
   "cell_type": "code",
   "execution_count": 27,
   "id": "b5c45a02-68e2-4a4a-b5ff-e92a1ba3eead",
   "metadata": {},
   "outputs": [
    {
     "name": "stdout",
     "output_type": "stream",
     "text": [
      "['\\n', ' ', '!', '\"', '#', \"'\", '(', ')', '*', ',', '-', '.', '0', '1', '2', '3', '5', '6', '7', '8', '9', ':', ';', '?', 'A', 'B', 'C', 'D', 'E', 'F', 'G', 'H', 'I', 'J', 'K', 'L', 'M', 'N', 'O', 'P', 'Q', 'R', 'S', 'T', 'U', 'V', 'W', 'X', 'Y', 'Z', '[', ']', 'a', 'b', 'c', 'd', 'e', 'f', 'g', 'h', 'i', 'j', 'k', 'l', 'm', 'n', 'o', 'p', 'q', 'r', 's', 't', 'u', 'v', 'w', 'x', 'y', 'z', '\\x8c', '\\x9c', 'Æ', 'æ', 'ç', 'é', 'ë', 'ô']\n",
      "vocabulary length: 86\n"
     ]
    }
   ],
   "source": [
    "#get all unique charaters that occure in text\n",
    "chars = sorted(list(set(text)))\n",
    "print(chars)\n",
    "print(\"vocabulary length: {}\".format(len(chars)))"
   ]
  },
  {
   "cell_type": "code",
   "execution_count": 29,
   "id": "0350a436-864d-4547-b48f-8b1c3206a581",
   "metadata": {},
   "outputs": [
    {
     "name": "stdout",
     "output_type": "stream",
     "text": [
      "Encoded: [68, 72, 66, 1, 73, 52, 55, 60, 70, 1, 55, 66, 64, 60, 65, 56]\n",
      "Decoded: quo vadis domine\n"
     ]
    }
   ],
   "source": [
    "# transform characters to numeric data\n",
    "strToInt = {ch:i for i,ch in enumerate(chars)}\n",
    "intToStr = {i:ch for i,ch in enumerate(chars)}\n",
    "encode = lambda s:[strToInt[c] for c in s] #encode string to integers\n",
    "decode = lambda l:''.join([intToStr[i] for i in l]) #decode intigers to string\n",
    "\n",
    "encoded = encode('quo vadis domine')\n",
    "print('Encoded:', encoded)\n",
    "print('Decoded:', decode(encoded))"
   ]
  },
  {
   "cell_type": "code",
   "execution_count": 30,
   "id": "660dc71a-e04f-440e-9b7e-060e03b09511",
   "metadata": {},
   "outputs": [
    {
     "name": "stdout",
     "output_type": "stream",
     "text": [
      "torch.Size([630170]) torch.int64\n",
      "tensor([39, 69, 66, 61, 56, 54, 71,  1, 30, 72, 71, 56, 65, 53, 56, 69, 58,  1,\n",
      "        28, 25, 66, 66, 62,  9,  1, 40, 72, 66,  1, 45, 52, 55, 60, 70,  9,  1,\n",
      "        53, 76,  1, 31, 56, 65, 69, 76, 62,  1, 42, 60, 56, 65, 62, 60, 56, 74,\n",
      "        60, 54, 77,  0,  0, 26, 66, 67, 76, 69, 60, 58, 59, 71,  1, 63, 52, 74,\n",
      "        70,  1, 52, 69, 56,  1, 54, 59, 52, 65, 58, 60, 65, 58,  1, 52, 63, 63,\n",
      "         1, 66, 73, 56, 69,  1, 71, 59, 56,  1, 74, 66, 69, 63, 55, 11,  1, 25,\n",
      "        56,  1, 70, 72, 69, 56,  1, 71, 66,  1, 54, 59, 56, 54, 62,  1, 71, 59,\n",
      "        56,  0, 54, 66, 67, 76, 69, 60, 58, 59, 71,  1, 63, 52, 74, 70,  1, 57,\n",
      "        66, 69,  1, 76, 66, 72, 69,  1, 54, 66, 72, 65, 71, 69, 76,  1, 53, 56,\n",
      "        57, 66, 69, 56,  1, 55, 66, 74, 65, 63, 66, 52, 55, 60, 65, 58,  1, 66,\n",
      "        69,  1, 69, 56, 55, 60, 70, 71, 69, 60, 53, 72, 71, 60, 65, 58,  0, 71,\n",
      "        59, 60, 70,  1, 66, 69,  1, 52, 65, 76,  1, 66, 71, 59, 56, 69,  1, 39,\n",
      "        69, 66, 61, 56, 54, 71,  1, 30, 72, 71, 56, 65, 53, 56, 69, 58,  1, 56,\n",
      "        25, 66, 66, 62, 11,  0,  0, 43, 59, 60, 70,  1, 59, 56, 52, 55, 56, 69,\n",
      "         1, 70, 59, 66, 72, 63, 55,  1, 53, 56,  1, 71, 59, 56,  1, 57, 60, 69,\n",
      "        70, 71,  1, 71, 59, 60, 65, 58,  1, 70, 56, 56, 65,  1, 74, 59, 56, 65,\n",
      "         1, 73, 60, 56, 74, 60, 65, 58,  1, 71, 59, 60, 70,  1, 39, 69, 66, 61,\n",
      "        56, 54, 71,  0, 30, 72, 71, 56, 65, 53, 56, 69, 58,  1, 57, 60, 63, 56,\n",
      "        11,  1,  1, 39, 63, 56, 52, 70, 56,  1, 55, 66,  1, 65, 66, 71,  1, 69,\n",
      "        56, 64, 66, 73, 56,  1, 60, 71, 11,  1,  1, 27, 66,  1, 65, 66, 71,  1,\n",
      "        54, 59, 52, 65, 58, 56,  1, 66, 69,  1, 56, 55, 60, 71,  1, 71, 59, 56,\n",
      "         0, 59, 56, 52, 55, 56, 69,  1, 74, 60, 71, 59, 66, 72, 71,  1, 74, 69,\n",
      "        60, 71, 71, 56, 65,  1, 67, 56, 69, 64, 60, 70, 70, 60, 66, 65, 11,  0,\n",
      "         0, 39, 63, 56, 52, 70, 56,  1, 69, 56, 52, 55,  1, 71, 59, 56,  1,  3,\n",
      "        63, 56, 58, 52, 63,  1, 70, 64, 52, 63, 63,  1, 67, 69, 60, 65, 71,  9,\n",
      "         3,  1, 52, 65, 55,  1, 66, 71, 59, 56, 69,  1, 60, 65, 57, 66, 69, 64,\n",
      "        52, 71, 60, 66, 65,  1, 52, 53, 66, 72, 71,  1, 71, 59, 56,  0, 56, 25,\n",
      "        66, 66, 62,  1, 52, 65, 55,  1, 39, 69, 66, 61, 56, 54, 71,  1, 30, 72,\n",
      "        71, 56, 65, 53, 56, 69, 58,  1, 52, 71,  1, 71, 59, 56,  1, 53, 66, 71,\n",
      "        71, 66, 64,  1, 66, 57,  1, 71, 59, 60, 70,  1, 57, 60, 63, 56, 11,  1,\n",
      "         1, 32, 65, 54, 63, 72, 55, 56, 55,  1, 60, 70,  0, 60, 64, 67, 66, 69,\n",
      "        71, 52, 65, 71,  1, 60, 65, 57, 66, 69, 64, 52, 71, 60, 66, 65,  1, 52,\n",
      "        53, 66, 72, 71,  1, 76, 66, 72, 69,  1, 70, 67, 56, 54, 60, 57, 60, 54,\n",
      "         1, 69, 60, 58, 59, 71, 70,  1, 52, 65, 55,  1, 69, 56, 70, 71, 69, 60,\n",
      "        54, 71, 60, 66, 65, 70,  1, 60, 65,  0, 59, 66, 74,  1, 71, 59, 56,  1,\n",
      "        57, 60, 63, 56,  1, 64, 52, 76,  1, 53, 56,  1, 72, 70, 56, 55, 11,  1,\n",
      "         1, 48, 66, 72,  1, 54, 52, 65,  1, 52, 63, 70, 66,  1, 57, 60, 65, 55,\n",
      "         1, 66, 72, 71,  1, 52, 53, 66, 72, 71,  1, 59, 66, 74,  1, 71, 66,  1,\n",
      "        64, 52, 62, 56,  1, 52,  0, 55, 66, 65, 52, 71, 60, 66, 65,  1, 71, 66,\n",
      "         1, 39, 69, 66, 61, 56, 54, 71,  1, 30, 72, 71, 56, 65, 53, 56, 69, 58,\n",
      "         9,  1, 52, 65, 55,  1, 59, 66, 74,  1, 71, 66,  1, 58, 56, 71,  1, 60,\n",
      "        65, 73, 66, 63, 73, 56, 55, 11,  0,  0,  0,  8,  8, 46, 56, 63, 54, 66,\n",
      "        64, 56,  1, 43, 66,  1, 43, 59, 56,  1, 46, 66, 69, 63, 55,  1, 66, 57,\n",
      "         1, 29, 69, 56, 56,  1, 39, 63, 52, 60, 65,  1, 45, 52, 65, 60, 63, 63,\n",
      "        52,  1, 28, 63, 56, 54, 71, 69, 66, 65, 60, 54,  1, 43, 56, 75, 71, 70,\n",
      "         8,  8,  0,  0,  8,  8, 28, 25, 66, 66, 62, 70,  1, 41, 56, 52, 55, 52,\n",
      "        53, 63, 56,  1, 25, 76,  1, 25, 66, 71, 59,  1, 31, 72, 64, 52, 65, 70,\n",
      "         1, 52, 65, 55,  1, 25, 76,  1, 26, 66, 64, 67, 72, 71, 56, 69, 70,  9,\n",
      "         1, 42, 60, 65, 54, 56,  1, 13, 20, 18, 13,  8,  8,  0,  0,  8,  8,  8,\n",
      "         8,  8, 43, 59, 56, 70, 56,  1, 28, 25, 66, 66, 62, 70,  1, 46, 56, 69,\n",
      "        56,  1, 39, 69, 56, 67, 52, 69, 56, 55,  1, 25, 76,  1, 43, 59, 66, 72,\n",
      "        70, 52, 65, 55, 70,  1, 66, 57,  1, 45, 66, 63, 72, 65, 71, 56, 56, 69,\n",
      "        70,  8,  8,  8,  8,  8,  0,  0,  0,  0, 43, 60, 71, 63, 56, 21,  1, 40,\n",
      "        72, 66,  1, 45, 52, 55, 60, 70,  1, 24,  1, 37, 52, 69, 69, 52, 71, 60,\n",
      "        73, 56,  1, 66, 57,  1, 71, 59, 56,  1, 43, 60, 64, 56,  1, 66, 57,  1,\n",
      "        37, 56, 69, 66,  0,  0, 24, 72, 71, 59])\n"
     ]
    }
   ],
   "source": [
    "#encoding entire \"quo vadis\" text\n",
    "import torch #PyTorch lib is used for building transformer components https://pytorch.org\n",
    "data = torch.tensor(encode(text), dtype=torch.long) #encode whole text\n",
    "print(data.shape, data.dtype)\n",
    "print(data[:1000])"
   ]
  },
  {
   "cell_type": "code",
   "execution_count": 32,
   "id": "ad10e156-9de1-4613-8cf7-444e3ed09f72",
   "metadata": {},
   "outputs": [],
   "source": [
    "#split data into train and validation sets\n",
    "n = int(0.8*len(data))\n",
    "train_data = data[:n]\n",
    "val_data = data[n:]"
   ]
  },
  {
   "cell_type": "code",
   "execution_count": 33,
   "id": "ecdbf70d-05fc-415c-b60b-2a3e27dc1140",
   "metadata": {},
   "outputs": [
    {
     "data": {
      "text/plain": [
       "tensor([39, 69, 66, 61, 56, 54, 71,  1, 30])"
      ]
     },
     "execution_count": 33,
     "metadata": {},
     "output_type": "execute_result"
    }
   ],
   "source": [
    "block_size = 8\n",
    "train_data[:block_size + 1]"
   ]
  },
  {
   "cell_type": "code",
   "execution_count": 34,
   "id": "bda614e2-8f4f-43aa-9e76-4fc4929a07b3",
   "metadata": {},
   "outputs": [
    {
     "name": "stdout",
     "output_type": "stream",
     "text": [
      "when input is tensor([39]) the target: 69\n",
      "when input is tensor([39, 69]) the target: 66\n",
      "when input is tensor([39, 69, 66]) the target: 61\n",
      "when input is tensor([39, 69, 66, 61]) the target: 56\n",
      "when input is tensor([39, 69, 66, 61, 56]) the target: 54\n",
      "when input is tensor([39, 69, 66, 61, 56, 54]) the target: 71\n",
      "when input is tensor([39, 69, 66, 61, 56, 54, 71]) the target: 1\n",
      "when input is tensor([39, 69, 66, 61, 56, 54, 71,  1]) the target: 30\n"
     ]
    }
   ],
   "source": [
    "x = train_data[:block_size]\n",
    "y = train_data[1:block_size+1]\n",
    "for t in range(block_size):\n",
    "    context = x[:t+1]\n",
    "    target = y[t]\n",
    "    print(f\"when input is {context} the target: {target}\")"
   ]
  },
  {
   "cell_type": "code",
   "execution_count": 35,
   "id": "5438617b-3a44-4f7a-af11-32da4c154266",
   "metadata": {},
   "outputs": [
    {
     "name": "stdout",
     "output_type": "stream",
     "text": [
      "inputs:\n",
      "torch.Size([4, 8])\n",
      "tensor([[56, 70, 54, 52, 67, 56, 11,  3],\n",
      "        [73, 56, 69,  9,  1, 59, 60, 70],\n",
      "        [ 1, 24, 71,  1, 52, 63, 63,  1],\n",
      "        [60, 70,  0, 53, 66, 55, 76, 11]])\n",
      "targets:\n",
      "torch.Size([4, 8])\n",
      "tensor([[70, 54, 52, 67, 56, 11,  3,  0],\n",
      "        [56, 69,  9,  1, 59, 60, 70,  1],\n",
      "        [24, 71,  1, 52, 63, 63,  1, 71],\n",
      "        [70,  0, 53, 66, 55, 76, 11,  1]])\n",
      "----\n",
      "when input is [56] the target: 70\n",
      "when input is [56, 70] the target: 54\n",
      "when input is [56, 70, 54] the target: 52\n",
      "when input is [56, 70, 54, 52] the target: 67\n",
      "when input is [56, 70, 54, 52, 67] the target: 56\n",
      "when input is [56, 70, 54, 52, 67, 56] the target: 11\n",
      "when input is [56, 70, 54, 52, 67, 56, 11] the target: 3\n",
      "when input is [56, 70, 54, 52, 67, 56, 11, 3] the target: 0\n",
      "when input is [73] the target: 56\n",
      "when input is [73, 56] the target: 69\n",
      "when input is [73, 56, 69] the target: 9\n",
      "when input is [73, 56, 69, 9] the target: 1\n",
      "when input is [73, 56, 69, 9, 1] the target: 59\n",
      "when input is [73, 56, 69, 9, 1, 59] the target: 60\n",
      "when input is [73, 56, 69, 9, 1, 59, 60] the target: 70\n",
      "when input is [73, 56, 69, 9, 1, 59, 60, 70] the target: 1\n",
      "when input is [1] the target: 24\n",
      "when input is [1, 24] the target: 71\n",
      "when input is [1, 24, 71] the target: 1\n",
      "when input is [1, 24, 71, 1] the target: 52\n",
      "when input is [1, 24, 71, 1, 52] the target: 63\n",
      "when input is [1, 24, 71, 1, 52, 63] the target: 63\n",
      "when input is [1, 24, 71, 1, 52, 63, 63] the target: 1\n",
      "when input is [1, 24, 71, 1, 52, 63, 63, 1] the target: 71\n",
      "when input is [60] the target: 70\n",
      "when input is [60, 70] the target: 0\n",
      "when input is [60, 70, 0] the target: 53\n",
      "when input is [60, 70, 0, 53] the target: 66\n",
      "when input is [60, 70, 0, 53, 66] the target: 55\n",
      "when input is [60, 70, 0, 53, 66, 55] the target: 76\n",
      "when input is [60, 70, 0, 53, 66, 55, 76] the target: 11\n",
      "when input is [60, 70, 0, 53, 66, 55, 76, 11] the target: 1\n"
     ]
    }
   ],
   "source": [
    "torch.manual_seed(2527)\n",
    "batch_size = 4 # number of independant sequences processed in parallel\n",
    "block_size = 8 # maximum context length of predictions\n",
    "\n",
    "def get_batch(split):\n",
    "    # generate batch of data of input x and targets y\n",
    "    data = train_data if split == 'train' else val_data\n",
    "    ix = torch.randint(len(data) - block_size, (batch_size,))\n",
    "    x = torch.stack([data[i:i+block_size] for i in ix])\n",
    "    y = torch.stack([data[i+1:i+block_size+1] for i in ix])\n",
    "    return x, y\n",
    "\n",
    "xb, yb = get_batch('train')\n",
    "print('inputs:')\n",
    "print(xb.shape)\n",
    "print(xb)\n",
    "print('targets:')\n",
    "print(yb.shape)\n",
    "print(yb)\n",
    "print('----')\n",
    "\n",
    "for b in range(batch_size): #batch dimension\n",
    "    for t in range(block_size): #time dimension\n",
    "        context = xb[b, :t+1]\n",
    "        target = yb[b,t]\n",
    "        print(f'when input is {context.tolist()} the target: {target}')"
   ]
  },
  {
   "cell_type": "code",
   "execution_count": null,
   "id": "6f39aca5-95d0-4add-b35f-66fa437ff141",
   "metadata": {},
   "outputs": [],
   "source": []
  }
 ],
 "metadata": {
  "kernelspec": {
   "display_name": "Python 3 (ipykernel)",
   "language": "python",
   "name": "python3"
  },
  "language_info": {
   "codemirror_mode": {
    "name": "ipython",
    "version": 3
   },
   "file_extension": ".py",
   "mimetype": "text/x-python",
   "name": "python",
   "nbconvert_exporter": "python",
   "pygments_lexer": "ipython3",
   "version": "3.11.7"
  }
 },
 "nbformat": 4,
 "nbformat_minor": 5
}
