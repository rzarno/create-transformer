{
 "cells": [
  {
   "cell_type": "code",
   "execution_count": 10,
   "id": "ef4d2009-3c89-48d2-93cc-c1fce0a94874",
   "metadata": {},
   "outputs": [
    {
     "name": "stdout",
     "output_type": "stream",
     "text": [
      "--2024-05-12 18:14:04--  http://biblioteka.kijowski.pl/sienkiewicz%20henryk/quo%20vadis%20(ang).txt\n",
      "Resolving biblioteka.kijowski.pl (biblioteka.kijowski.pl)... 77.65.215.2\n",
      "Connecting to biblioteka.kijowski.pl (biblioteka.kijowski.pl)|77.65.215.2|:80... connected.\n",
      "HTTP request sent, awaiting response... 200 OK\n",
      "Length: 642072 (627K) [text/plain]\n",
      "Saving to: ‘quo vadis (ang).txt.1’\n",
      "\n",
      "quo vadis (ang).txt 100%[===================>] 627,02K  1,14MB/s    in 0,5s    \n",
      "\n",
      "2024-05-12 18:14:05 (1,14 MB/s) - ‘quo vadis (ang).txt.1’ saved [642072/642072]\n",
      "\n"
     ]
    }
   ],
   "source": [
    "#based on \"Let's build GPT: from scratch, in code, spelled out.\" from Andrej Karpathy\n",
    "\n",
    "# download Quo Vadis from Henryk Sienkiewicz\n",
    "!wget \"http://biblioteka.kijowski.pl/sienkiewicz%20henryk/quo%20vadis%20(ang).txt\"\n",
    "!mv \"quo vadis (ang).txt\" quo_vadis.txt"
   ]
  },
  {
   "cell_type": "code",
   "execution_count": 18,
   "id": "fb148ef1-f986-4f03-948d-da5afdf4ded2",
   "metadata": {},
   "outputs": [],
   "source": [
    "#get pointer to read text\n",
    "with open('quo_vadis.txt', encoding='latin-1') as f:\n",
    "    text = f.read()"
   ]
  },
  {
   "cell_type": "code",
   "execution_count": 22,
   "id": "6b82c058-6795-4e9a-b00e-5f1474e93aa1",
   "metadata": {},
   "outputs": [
    {
     "name": "stdout",
     "output_type": "stream",
     "text": [
      "len of text: 630170\n",
      "Project Gutenberg EBook, Quo Vadis, by Henryk Sienkiewicz\n",
      "\n",
      "Copyright laws are changing all over the world. Be sure to check the\n",
      "copyright laws for your country before downloading or redistributing\n",
      "this or any other Project Gutenberg eBook.\n",
      "\n",
      "This header should be the first thing seen when viewing this Project\n",
      "Gutenberg file.  Please do not remove it.  Do not change or edit the\n",
      "header without written permission.\n",
      "\n",
      "Please read the \"legal small print,\" and other information about the\n",
      "eBook and Project Gutenberg at the bottom of this file.  Included is\n",
      "important information about your specific rights and restrictions in\n",
      "how the file may be used.  You can also find out about how to make a\n",
      "donation to Project Gutenberg, and how to get involved.\n",
      "\n",
      "\n",
      "**Welcome To The World of Free Plain Vanilla Electronic Texts**\n",
      "\n",
      "**EBooks Readable By Both Humans and By Computers, Since 1971**\n",
      "\n",
      "*****These EBooks Were Prepared By Thousands of Volunteers*****\n",
      "\n",
      "\n",
      "\n",
      "Title: Quo Vadis A Narrative of the Time of Nero\n",
      "\n",
      "Auth\n"
     ]
    }
   ],
   "source": [
    "print('len of text: {}'.format(len(text)))\n",
    "print(text[0:1000])"
   ]
  },
  {
   "cell_type": "code",
   "execution_count": 25,
   "id": "b5c45a02-68e2-4a4a-b5ff-e92a1ba3eead",
   "metadata": {},
   "outputs": [
    {
     "name": "stdout",
     "output_type": "stream",
     "text": [
      "['\\n', ' ', '!', '\"', '#', \"'\", '(', ')', '*', ',', '-', '.', '0', '1', '2', '3', '5', '6', '7', '8', '9', ':', ';', '?', 'A', 'B', 'C', 'D', 'E', 'F', 'G', 'H', 'I', 'J', 'K', 'L', 'M', 'N', 'O', 'P', 'Q', 'R', 'S', 'T', 'U', 'V', 'W', 'X', 'Y', 'Z', '[', ']', 'a', 'b', 'c', 'd', 'e', 'f', 'g', 'h', 'i', 'j', 'k', 'l', 'm', 'n', 'o', 'p', 'q', 'r', 's', 't', 'u', 'v', 'w', 'x', 'y', 'z', '\\x8c', '\\x9c', 'Æ', 'æ', 'ç', 'é', 'ë', 'ô']\n"
     ]
    }
   ],
   "source": [
    "#get all unique charaters that occure in text\n",
    "chars = sorted(list(set(text)))\n",
    "print(chars)\n",
    "print"
   ]
  },
  {
   "cell_type": "code",
   "execution_count": null,
   "id": "0350a436-864d-4547-b48f-8b1c3206a581",
   "metadata": {},
   "outputs": [],
   "source": []
  }
 ],
 "metadata": {
  "kernelspec": {
   "display_name": "Python 3 (ipykernel)",
   "language": "python",
   "name": "python3"
  },
  "language_info": {
   "codemirror_mode": {
    "name": "ipython",
    "version": 3
   },
   "file_extension": ".py",
   "mimetype": "text/x-python",
   "name": "python",
   "nbconvert_exporter": "python",
   "pygments_lexer": "ipython3",
   "version": "3.11.7"
  }
 },
 "nbformat": 4,
 "nbformat_minor": 5
}
